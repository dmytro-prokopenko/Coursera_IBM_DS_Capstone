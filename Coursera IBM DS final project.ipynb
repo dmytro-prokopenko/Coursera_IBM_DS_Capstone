{
    "cells": [
        {
            "cell_type": "markdown",
            "metadata": {
                "collapsed": true
            },
            "source": "# This is a final Coursera IBM Data Science project"
        },
        {
            "cell_type": "markdown",
            "metadata": {},
            "source": "### Business Probmlem\nCurrently, it is not many places where one could buy a Gelato in Prague, but potential demand is high given the long queues.\n\n### Instrumentation\nIn this capstone project, I will leverage the FourSquare API and K-means algorithm to find the best place to open a Gelato shop.\nTo visualize the result of my work I will use Folium.\n\n### Target Audience\nBusinessmen who are interested in high margin business in Prague"
        },
        {
            "cell_type": "code",
            "execution_count": 1,
            "metadata": {},
            "outputs": [],
            "source": "import pandas as pd\nimport numpy as np"
        },
        {
            "cell_type": "code",
            "execution_count": 2,
            "metadata": {},
            "outputs": [
                {
                    "name": "stdout",
                    "output_type": "stream",
                    "text": "Hello Capstone Project Course!\n"
                }
            ],
            "source": "print('Hello Capstone Project Course!')"
        },
        {
            "cell_type": "code",
            "execution_count": null,
            "metadata": {},
            "outputs": [],
            "source": ""
        }
    ],
    "metadata": {
        "kernelspec": {
            "display_name": "Python 3.6",
            "language": "python",
            "name": "python3"
        },
        "language_info": {
            "codemirror_mode": {
                "name": "ipython",
                "version": 3
            },
            "file_extension": ".py",
            "mimetype": "text/x-python",
            "name": "python",
            "nbconvert_exporter": "python",
            "pygments_lexer": "ipython3",
            "version": "3.6.9"
        }
    },
    "nbformat": 4,
    "nbformat_minor": 1
}